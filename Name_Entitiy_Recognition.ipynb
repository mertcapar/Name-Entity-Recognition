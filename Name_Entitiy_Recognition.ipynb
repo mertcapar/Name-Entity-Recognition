{
  "cells": [
    {
      "cell_type": "code",
      "execution_count": null,
      "metadata": {
        "id": "Mf_BqZ6zAycj"
      },
      "outputs": [],
      "source": [
        "!pip install spacy\n",
        "!pip install https://huggingface.co/turkish-nlp-suite/tr_core_news_trf/resolve/main/tr_core_news_trf-any-py3-none-any.whl\n",
        "!pip install WordCloud\n",
        "!pip install TurkishStemmer\n",
        "\n",
        "\n",
        "\n"
      ]
    },
    {
      "cell_type": "code",
      "execution_count": null,
      "metadata": {
        "id": "CJkPkIPPLXKX"
      },
      "outputs": [],
      "source": [
        "import spacy\n",
        "from spacy import displacy\n",
        "from collections import Counter\n",
        "from google.colab import drive\n",
        "import pandas as pd\n",
        "import matplotlib.pyplot as plt\n",
        "from wordcloud import WordCloud, STOPWORDS\n",
        "import difflib\n",
        "\n",
        "nlp = spacy.load(\"tr_core_news_trf\")\n",
        "drive.mount('gdrive')\n",
        "dosya='/content/gdrive/My Drive/Colab Notebooks/Spacy-NER/piraye2deneme.txt'\n",
        "\n",
        "with open(dosya, \"r\") as f:\n",
        "    text = f.read()\n",
        "    doc = nlp(text)\n",
        "\n",
        "person_word_counts = Counter(ent.lemma_.lower() for ent in doc.ents if ent.label_ == \"PERSON\" and not ent[0].is_stop and not ent[0].is_punct and not ent[0].is_space)\n",
        "\n",
        "print(person_word_counts)\n",
        "\n",
        "person_wordcloud = WordCloud(width=800, height=800,\n",
        "                      background_color='white',\n",
        "                    stopwords=set(STOPWORDS),\n",
        "                     min_font_size=10).generate_from_frequencies(person_word_counts)\n",
        "\n",
        "plt.figure(figsize = (8, 8), facecolor = None) \n",
        "plt.imshow(person_wordcloud) \n",
        "plt.axis(\"off\") \n",
        "plt.tight_layout(pad = 0) \n",
        "plt.show() \n",
        "\n",
        "GPE_word_counts = Counter(ent.lemma_.lower() for ent in doc.ents if ent.label_ == \"GPE\" and not ent[0].is_stop and not ent[0].is_punct and not ent[0].is_space )\n",
        "\n",
        "print(GPE_word_counts)\n",
        "\n",
        "GPE_wordcloud = WordCloud(width=800, height=800,\n",
        "                      background_color='white',\n",
        "                    stopwords=set(STOPWORDS),\n",
        "                     min_font_size=10).generate_from_frequencies(GPE_word_counts)\n",
        "\n",
        "plt.figure(figsize = (8, 8), facecolor = None) \n",
        "plt.imshow(GPE_wordcloud) \n",
        "plt.axis(\"off\") \n",
        "plt.tight_layout(pad = 0) \n",
        "plt.show()\n"
      ]
    }
  ],
  "metadata": {
    "colab": {
      "provenance": []
    },
    "kernelspec": {
      "display_name": "Python 3",
      "name": "python3"
    },
    "language_info": {
      "name": "python"
    }
  },
  "nbformat": 4,
  "nbformat_minor": 0
}